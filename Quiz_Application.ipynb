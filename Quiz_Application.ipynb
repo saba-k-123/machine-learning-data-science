{
  "nbformat": 4,
  "nbformat_minor": 0,
  "metadata": {
    "colab": {
      "provenance": [],
      "authorship_tag": "ABX9TyOyQWBgxduyTZfAe2TPyaqT",
      "include_colab_link": true
    },
    "kernelspec": {
      "name": "python3",
      "display_name": "Python 3"
    },
    "language_info": {
      "name": "python"
    }
  },
  "cells": [
    {
      "cell_type": "markdown",
      "metadata": {
        "id": "view-in-github",
        "colab_type": "text"
      },
      "source": [
        "<a href=\"https://colab.research.google.com/github/saba-k-123/machine-learning-data-science/blob/main/Quiz_Application.ipynb\" target=\"_parent\"><img src=\"https://colab.research.google.com/assets/colab-badge.svg\" alt=\"Open In Colab\"/></a>"
      ]
    },
    {
      "cell_type": "code",
      "execution_count": null,
      "metadata": {
        "colab": {
          "base_uri": "https://localhost:8080/"
        },
        "id": "cooRd8qhjlV5",
        "outputId": "93476f53-3b51-4647-854c-979373efc136"
      },
      "outputs": [
        {
          "output_type": "stream",
          "name": "stdout",
          "text": [
            "Collecting tk\n",
            "  Downloading tk-0.1.0-py3-none-any.whl (3.9 kB)\n",
            "Installing collected packages: tk\n",
            "Successfully installed tk-0.1.0\n"
          ]
        }
      ],
      "source": [
        "pip install tk"
      ]
    },
    {
      "cell_type": "code",
      "source": [
        "\n",
        "import tkinter as tk\n",
        "from tkinter import messagebox\n",
        "import random\n",
        "\n",
        "class QuizApp:\n",
        "    def __init__(self, master):\n",
        "        self.master = master\n",
        "        self.master.title(\"Quiz Application\")\n",
        "        self.master.geometry(\"400x300\")\n",
        "\n",
        "        self.questions = []  # List to store questions\n",
        "        self.answers = []    # List to store correct answers\n",
        "        self.users = []      # List to store user scores\n",
        "\n",
        "        self.current_user_index = 0\n",
        "\n",
        "        self.create_widgets()\n",
        "\n",
        "    def create_widgets(self):\n",
        "        # Widgets\n",
        "        self.label_name = tk.Label(self.master, text=\"Enter your name:\")\n",
        "        self.entry_name = tk.Entry(self.master)\n",
        "        self.button_start = tk.Button(self.master, text=\"Start Quiz\", command=self.start_quiz)\n",
        "        self.label_question = tk.Label(self.master, text=\"\")\n",
        "        self.entry_answer = tk.Entry(self.master)\n",
        "        self.button_submit = tk.Button(self.master, text=\"Submit Answer\", command=self.check_answer)\n",
        "\n",
        "        # Layout\n",
        "        self.label_name.pack(pady=10)\n",
        "        self.entry_name.pack()\n",
        "        self.button_start.pack(pady=10)\n",
        "        self.label_question.pack(pady=10)\n",
        "        self.entry_answer.pack()\n",
        "        self.button_submit.pack(pady=10)\n",
        "\n",
        "        # Hide question-related widgets initially\n",
        "        self.label_question.pack_forget()\n",
        "        self.entry_answer.pack_forget()\n",
        "        self.button_submit.pack_forget()\n",
        "\n",
        "    def start_quiz(self):\n",
        "        # Initialize or reset variables for a new user\n",
        "        self.current_user_name = self.entry_name.get()\n",
        "        self.user_score = 0\n",
        "        self.current_question_index = 0\n",
        "        self.shuffle_questions()\n",
        "\n",
        "        # Show question-related widgets\n",
        "        self.label_question.pack()\n",
        "        self.entry_answer.pack()\n",
        "        self.button_submit.pack()\n",
        "\n",
        "        self.load_next_question()\n",
        "\n",
        "    def shuffle_questions(self):\n",
        "        # Shuffle questions and answers for variety\n",
        "        shuffled_indices = list(range(len(self.questions)))\n",
        "        random.shuffle(shuffled_indices)\n",
        "        self.shuffled_questions = [self.questions[i] for i in shuffled_indices]\n",
        "        self.shuffled_answers = [self.answers[i] for i in shuffled_indices]\n",
        "\n",
        "    def load_next_question(self):\n",
        "        if self.current_question_index < len(self.questions):\n",
        "            # Display the current question\n",
        "            self.label_question.config(text=self.shuffled_questions[self.current_question_index])\n",
        "        else:\n",
        "            # Quiz finished for the current user\n",
        "            self.finish_quiz()\n",
        "\n",
        "    def check_answer(self):\n",
        "        user_answer = self.entry_answer.get().strip().lower()\n",
        "        correct_answer = self.shuffled_answers[self.current_question_index].lower()\n",
        "\n",
        "        if user_answer == correct_answer:\n",
        "            self.user_score += 1\n",
        "\n",
        "        self.current_question_index += 1\n",
        "        self.entry_answer.delete(0, tk.END)  # Clear the entry\n",
        "\n",
        "        # Load the next question or finish the quiz\n",
        "        self.load_next_question()\n",
        "\n",
        "    def finish_quiz(self):\n",
        "        # Calculate percentage score\n",
        "        percentage_score = (self.user_score / len(self.questions)) * 100\n",
        "\n",
        "        # Display user's score\n",
        "        messagebox.showinfo(\"Quiz Result\", f\"{self.current_user_name}'s Score: {self.user_score}/{len(self.questions)} ({percentage_score:.2f}%)\")\n",
        "\n",
        "        # Save user's score\n",
        "        self.users.append((self.current_user_name, self.user_score))\n",
        "\n",
        "        # Ask if another user wants to take the quiz\n",
        "        another_user = messagebox.askyesno(\"Quiz\", \"Do you want another user to take the quiz?\")\n",
        "        if another_user:\n",
        "            self.current_user_index += 1\n",
        "            self.reset_for_next_user()\n",
        "        else:\n",
        "            self.display_results()\n",
        "\n",
        "    def reset_for_next_user(self):\n",
        "        # Reset widgets and variables for the next user\n",
        "        self.label_question.config(text=\"\")\n",
        "        self.label_question.pack_forget()\n",
        "        self.entry_answer.pack_forget()\n",
        "        self.button_submit.pack_forget()\n",
        "\n",
        "        # Start quiz for the next user\n",
        "        self.start_quiz()\n",
        "\n",
        "    def display_results(self):\n",
        "        # Display results including highest score and average score\n",
        "        highest_score = max(self.users, key=lambda x: x[1])\n",
        "        average_score = sum(score for _, score in self.users) / len(self.users)\n",
        "\n",
        "        results_message = f\"Highest Score: {highest_score[0]} with {highest_score[1]}/{len(self.questions)}\\n\"\n",
        "        results_message += f\"Average Score: {average_score:.2f}\"\n",
        "\n",
        "        messagebox.showinfo(\"Quiz Results\", results_message)\n",
        "\n",
        "if __name__ == \"__main__\":\n",
        "    root = tk.Tk()\n",
        "    app = QuizApp(root)\n",
        "    root.mainloop()"
      ],
      "metadata": {
        "colab": {
          "base_uri": "https://localhost:8080/",
          "height": 366
        },
        "id": "QoWPEuEKkZ-J",
        "outputId": "5f819b3b-382d-46af-e0ec-796334f52f2f"
      },
      "execution_count": 1,
      "outputs": [
        {
          "output_type": "error",
          "ename": "TclError",
          "evalue": "no display name and no $DISPLAY environment variable",
          "traceback": [
            "\u001b[0;31m---------------------------------------------------------------------------\u001b[0m",
            "\u001b[0;31mTclError\u001b[0m                                  Traceback (most recent call last)",
            "\u001b[0;32m<ipython-input-1-c513240b9f24>\u001b[0m in \u001b[0;36m<cell line: 121>\u001b[0;34m()\u001b[0m\n\u001b[1;32m    120\u001b[0m \u001b[0;34m\u001b[0m\u001b[0m\n\u001b[1;32m    121\u001b[0m \u001b[0;32mif\u001b[0m \u001b[0m__name__\u001b[0m \u001b[0;34m==\u001b[0m \u001b[0;34m\"__main__\"\u001b[0m\u001b[0;34m:\u001b[0m\u001b[0;34m\u001b[0m\u001b[0;34m\u001b[0m\u001b[0m\n\u001b[0;32m--> 122\u001b[0;31m     \u001b[0mroot\u001b[0m \u001b[0;34m=\u001b[0m \u001b[0mtk\u001b[0m\u001b[0;34m.\u001b[0m\u001b[0mTk\u001b[0m\u001b[0;34m(\u001b[0m\u001b[0;34m)\u001b[0m\u001b[0;34m\u001b[0m\u001b[0;34m\u001b[0m\u001b[0m\n\u001b[0m\u001b[1;32m    123\u001b[0m     \u001b[0mapp\u001b[0m \u001b[0;34m=\u001b[0m \u001b[0mQuizApp\u001b[0m\u001b[0;34m(\u001b[0m\u001b[0mroot\u001b[0m\u001b[0;34m)\u001b[0m\u001b[0;34m\u001b[0m\u001b[0;34m\u001b[0m\u001b[0m\n\u001b[1;32m    124\u001b[0m     \u001b[0mroot\u001b[0m\u001b[0;34m.\u001b[0m\u001b[0mmainloop\u001b[0m\u001b[0;34m(\u001b[0m\u001b[0;34m)\u001b[0m\u001b[0;34m\u001b[0m\u001b[0;34m\u001b[0m\u001b[0m\n",
            "\u001b[0;32m/usr/lib/python3.10/tkinter/__init__.py\u001b[0m in \u001b[0;36m__init__\u001b[0;34m(self, screenName, baseName, className, useTk, sync, use)\u001b[0m\n\u001b[1;32m   2297\u001b[0m                 \u001b[0mbaseName\u001b[0m \u001b[0;34m=\u001b[0m \u001b[0mbaseName\u001b[0m \u001b[0;34m+\u001b[0m \u001b[0mext\u001b[0m\u001b[0;34m\u001b[0m\u001b[0;34m\u001b[0m\u001b[0m\n\u001b[1;32m   2298\u001b[0m         \u001b[0minteractive\u001b[0m \u001b[0;34m=\u001b[0m \u001b[0;32mFalse\u001b[0m\u001b[0;34m\u001b[0m\u001b[0;34m\u001b[0m\u001b[0m\n\u001b[0;32m-> 2299\u001b[0;31m         \u001b[0mself\u001b[0m\u001b[0;34m.\u001b[0m\u001b[0mtk\u001b[0m \u001b[0;34m=\u001b[0m \u001b[0m_tkinter\u001b[0m\u001b[0;34m.\u001b[0m\u001b[0mcreate\u001b[0m\u001b[0;34m(\u001b[0m\u001b[0mscreenName\u001b[0m\u001b[0;34m,\u001b[0m \u001b[0mbaseName\u001b[0m\u001b[0;34m,\u001b[0m \u001b[0mclassName\u001b[0m\u001b[0;34m,\u001b[0m \u001b[0minteractive\u001b[0m\u001b[0;34m,\u001b[0m \u001b[0mwantobjects\u001b[0m\u001b[0;34m,\u001b[0m \u001b[0museTk\u001b[0m\u001b[0;34m,\u001b[0m \u001b[0msync\u001b[0m\u001b[0;34m,\u001b[0m \u001b[0muse\u001b[0m\u001b[0;34m)\u001b[0m\u001b[0;34m\u001b[0m\u001b[0;34m\u001b[0m\u001b[0m\n\u001b[0m\u001b[1;32m   2300\u001b[0m         \u001b[0;32mif\u001b[0m \u001b[0museTk\u001b[0m\u001b[0;34m:\u001b[0m\u001b[0;34m\u001b[0m\u001b[0;34m\u001b[0m\u001b[0m\n\u001b[1;32m   2301\u001b[0m             \u001b[0mself\u001b[0m\u001b[0;34m.\u001b[0m\u001b[0m_loadtk\u001b[0m\u001b[0;34m(\u001b[0m\u001b[0;34m)\u001b[0m\u001b[0;34m\u001b[0m\u001b[0;34m\u001b[0m\u001b[0m\n",
            "\u001b[0;31mTclError\u001b[0m: no display name and no $DISPLAY environment variable"
          ]
        }
      ]
    }
  ]
}