{
  "cells": [
    {
      "cell_type": "markdown",
      "metadata": {
        "id": "view-in-github",
        "colab_type": "text"
      },
      "source": [
        "<a href=\"https://colab.research.google.com/github/saba-k-123/machine-learning-data-science/blob/main/quiz_app_2.ipynb\" target=\"_parent\"><img src=\"https://colab.research.google.com/assets/colab-badge.svg\" alt=\"Open In Colab\"/></a>"
      ]
    },
    {
      "cell_type": "code",
      "execution_count": null,
      "metadata": {
        "colab": {
          "base_uri": "https://localhost:8080/"
        },
        "id": "VG6SK2s5GptP",
        "outputId": "7753c148-c1ca-49a8-a68e-89563d46b6aa"
      },
      "outputs": [
        {
          "name": "stdout",
          "output_type": "stream",
          "text": [
            "Requirement already satisfied: pygame in /usr/local/lib/python3.10/dist-packages (2.5.2)\n"
          ]
        }
      ],
      "source": [
        "pip install pygame"
      ]
    },
    {
      "cell_type": "code",
      "execution_count": null,
      "metadata": {
        "colab": {
          "background_save": true
        },
        "id": "aKRlXz-9GRgM"
      },
      "outputs": [],
      "source": [
        "\n",
        "import random\n",
        "\n",
        "class Quiz:\n",
        "    def __init__(self):\n",
        "        self.questions = []\n",
        "        self.answers = []\n",
        "        self.users = []\n",
        "\n",
        "    def add_question(self, question, answer):\n",
        "        self.questions.append(question)\n",
        "        self.answers.append(answer)\n",
        "\n",
        "    def get_user_name(self):\n",
        "        while True:\n",
        "            try:\n",
        "                name = input(\"Enter your name: \")\n",
        "                if not name:\n",
        "                    raise ValueError(\"Name cannot be empty.\")\n",
        "                return name\n",
        "            except ValueError as e:\n",
        "                print(f\"Error: {e}\")\n",
        "\n",
        "    def run_quiz(self):\n",
        "        name = self.get_user_name()\n",
        "        user_score = 0\n",
        "\n",
        "        # Shuffle questions for variety\n",
        "        shuffled_indices = list(range(len(self.questions)))\n",
        "        random.shuffle(shuffled_indices)\n",
        "\n",
        "        for i in shuffled_indices:\n",
        "            question = self.questions[i]\n",
        "            correct_answer = self.answers[i]\n",
        "\n",
        "            user_answer = input(f\"{question}: \").strip().lower()\n",
        "\n",
        "            if user_answer == correct_answer.lower():\n",
        "                print(\"Correct!\")\n",
        "                user_score += 1\n",
        "            else:\n",
        "                print(f\"Wrong! The correct answer is: {correct_answer}\")\n",
        "\n",
        "        percentage_score = (user_score / len(self.questions)) * 100\n",
        "        print(f\"\\n{name}'s Score: {user_score}/{len(self.questions)} ({percentage_score:.2f}%)\")\n",
        "\n",
        "        self.users.append((name, user_score))\n",
        "\n",
        "    def display_results(self):\n",
        "        print(\"\\nQuiz Results:\")\n",
        "        highest_score = max(self.users, key=lambda x: x[1])\n",
        "        print(f\"\\nHighest Score: {highest_score[0]} with {highest_score[1]}/{len(self.questions)}\")\n",
        "\n",
        "        average_score = sum(score for _, score in self.users) / len(self.users)\n",
        "        print(f\"Average Score: {average_score:.2f}\")\n",
        "\n",
        "if __name__ == \"__main__\":\n",
        "    quiz = Quiz()\n",
        "\n",
        "    # Example questions and answers (you can add more)\n",
        "    quiz.add_question(\"What is the capital of France?\", \"Paris\")\n",
        "    quiz.add_question(\"Who wrote 'Romeo and Juliet'?\", \"William Shakespeare\")\n",
        "    # Add more questions and answers here...\n",
        "\n",
        "    while True:\n",
        "        quiz.run_quiz()\n",
        "\n",
        "        another_user = input(\"\\nDo you want another user to take the quiz? (yes/no): \").lower()\n",
        "        if another_user != \"yes\":\n",
        "            break\n",
        "\n",
        "    quiz.display_results()"
      ]
    }
  ],
  "metadata": {
    "colab": {
      "provenance": [],
      "authorship_tag": "ABX9TyP09xQdU8untXRPbcD35BhA",
      "include_colab_link": true
    },
    "kernelspec": {
      "display_name": "Python 3",
      "name": "python3"
    },
    "language_info": {
      "name": "python"
    }
  },
  "nbformat": 4,
  "nbformat_minor": 0
}